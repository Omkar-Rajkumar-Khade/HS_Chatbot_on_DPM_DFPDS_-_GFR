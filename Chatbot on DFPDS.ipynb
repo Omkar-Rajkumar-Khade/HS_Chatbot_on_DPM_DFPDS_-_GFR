{
 "cells": [
  {
   "cell_type": "code",
   "execution_count": 1,
   "id": "b452dd5f",
   "metadata": {},
   "outputs": [
    {
     "name": "stdout",
     "output_type": "stream",
     "text": [
      "3.11.5 (tags/v3.11.5:cce6ba9, Aug 24 2023, 14:38:34) [MSC v.1936 64 bit (AMD64)]\n"
     ]
    }
   ],
   "source": [
    "import sys\n",
    "print(sys.version)"
   ]
  },
  {
   "cell_type": "markdown",
   "id": "b1399261",
   "metadata": {},
   "source": [
    "## Install Required Libraries "
   ]
  },
  {
   "cell_type": "code",
   "execution_count": 2,
   "id": "1b099e20",
   "metadata": {},
   "outputs": [],
   "source": [
    "# %pip install haystack-ai transformers accelerate bitsandbytes sentence_transformers pypdf elasticsearch-haystack torch numpy"
   ]
  },
  {
   "cell_type": "markdown",
   "id": "96786e54",
   "metadata": {},
   "source": [
    "## Import Required Libraries "
   ]
  },
  {
   "cell_type": "code",
   "execution_count": 2,
   "id": "215e836a",
   "metadata": {},
   "outputs": [],
   "source": [
    "# %pip install rich"
   ]
  },
  {
   "cell_type": "code",
   "execution_count": 7,
   "id": "5b9ba955",
   "metadata": {},
   "outputs": [],
   "source": [
    "from IPython.display import Image\n",
    "from pprint import pprint\n",
    "import torch\n",
    "import rich\n",
    "import random"
   ]
  },
  {
   "cell_type": "code",
   "execution_count": 6,
   "id": "2f7cdd0b",
   "metadata": {},
   "outputs": [
    {
     "name": "stderr",
     "output_type": "stream",
     "text": [
      "d:\\Chatbot_on_Documents\\Haystack\\chatbot\\Lib\\site-packages\\tqdm\\auto.py:21: TqdmWarning: IProgress not found. Please update jupyter and ipywidgets. See https://ipywidgets.readthedocs.io/en/stable/user_install.html\n",
      "  from .autonotebook import tqdm as notebook_tqdm\n"
     ]
    }
   ],
   "source": [
    "from haystack import Pipeline, Document\n",
    "#from haystack.document_stores import InMemoryDocumentStore\n",
    "from haystack.components.converters import PyPDFToDocument\n",
    "from haystack.components.preprocessors import DocumentCleaner, DocumentSplitter\n",
    "from haystack.components.embedders import SentenceTransformersTextEmbedder, SentenceTransformersDocumentEmbedder\n",
    "from haystack.components.writers import DocumentWriter\n",
    "from haystack.components.writers.document_writer import DuplicatePolicy\n",
    "from haystack_integrations.document_stores.elasticsearch import ElasticsearchDocumentStore\n",
    "from haystack_integrations.components.retrievers.elasticsearch import ElasticsearchEmbeddingRetriever\n",
    "#from elasticsearch_haystack.document_store import ElasticsearchDocumentStore\n",
    "#from elasticsearch_haystack.embedding_retriever import ElasticsearchEmbeddingRetriever\n",
    "from haystack.components.generators import HuggingFaceLocalGenerator\n",
    "from haystack.components.builders import PromptBuilder"
   ]
  },
  {
   "cell_type": "markdown",
   "id": "5ddf036b",
   "metadata": {},
   "source": [
    "## Initialize Document Store "
   ]
  },
  {
   "cell_type": "code",
   "execution_count": 8,
   "id": "0e5d4924",
   "metadata": {},
   "outputs": [
    {
     "name": "stdout",
     "output_type": "stream",
     "text": [
      "0\n"
     ]
    }
   ],
   "source": [
    "document_store_dfpds = ElasticsearchDocumentStore(hosts = \"http://localhost:9200\")\n",
    "print(document_store_dfpds.count_documents())"
   ]
  },
  {
   "cell_type": "markdown",
   "id": "59b106e0",
   "metadata": {},
   "source": [
    "## Pipeline for document convertion, preprocessing,embedding & to store them in VectorDB"
   ]
  },
  {
   "cell_type": "code",
   "execution_count": 9,
   "id": "f2f55639",
   "metadata": {},
   "outputs": [],
   "source": [
    "pipeline = Pipeline()\n",
    "\n",
    "pipeline.add_component(\"converter\", PyPDFToDocument())\n",
    "pipeline.add_component(\"cleaner\", DocumentCleaner())\n",
    "pipeline.add_component(\"splitter\", DocumentSplitter(split_by=\"word\", split_length=400))\n",
    "pipeline.add_component(\"doc_embedder\", SentenceTransformersDocumentEmbedder(model=\"thenlper/gte-base\", device=\"cuda:0\",))\n",
    "pipeline.add_component(\"writer\", DocumentWriter(document_store=document_store_dfpds,policy=DuplicatePolicy.OVERWRITE))\n",
    "\n",
    "pipeline.connect(\"converter\", \"cleaner\")\n",
    "pipeline.connect(\"cleaner\", \"splitter\")\n",
    "pipeline.connect(\"splitter\", \"doc_embedder\")\n",
    "pipeline.connect(\"doc_embedder\", \"writer\")"
   ]
  },
  {
   "cell_type": "code",
   "execution_count": null,
   "id": "af177f54",
   "metadata": {},
   "outputs": [],
   "source": [
    "pipeline.draw(\"pipeline.png\")\n",
    "Image(filename='pipeline.png')"
   ]
  },
  {
   "cell_type": "code",
   "execution_count": 11,
   "id": "3a6548da",
   "metadata": {},
   "outputs": [],
   "source": [
    "import os\n",
    "from pathlib import Path\n",
    "file_paths = [\"data\" / Path(name) for name in os.listdir(\"data\")]"
   ]
  },
  {
   "cell_type": "code",
   "execution_count": 9,
   "id": "9c7c46d3",
   "metadata": {},
   "outputs": [
    {
     "data": {
      "text/plain": [
       "[WindowsPath('data/DFPDS21.pdf')]"
      ]
     },
     "execution_count": 9,
     "metadata": {},
     "output_type": "execute_result"
    }
   ],
   "source": [
    "file_paths"
   ]
  },
  {
   "cell_type": "code",
   "execution_count": 12,
   "id": "89d51252",
   "metadata": {},
   "outputs": [
    {
     "ename": "AssertionError",
     "evalue": "Torch not compiled with CUDA enabled",
     "output_type": "error",
     "traceback": [
      "\u001b[1;31m---------------------------------------------------------------------------\u001b[0m",
      "\u001b[1;31mAssertionError\u001b[0m                            Traceback (most recent call last)",
      "Cell \u001b[1;32mIn[12], line 1\u001b[0m\n\u001b[1;32m----> 1\u001b[0m \u001b[43mpipeline\u001b[49m\u001b[38;5;241;43m.\u001b[39;49m\u001b[43mrun\u001b[49m\u001b[43m(\u001b[49m\u001b[43m{\u001b[49m\u001b[38;5;124;43m\"\u001b[39;49m\u001b[38;5;124;43mconverter\u001b[39;49m\u001b[38;5;124;43m\"\u001b[39;49m\u001b[43m:\u001b[49m\u001b[43m \u001b[49m\u001b[43m{\u001b[49m\u001b[38;5;124;43m\"\u001b[39;49m\u001b[38;5;124;43msources\u001b[39;49m\u001b[38;5;124;43m\"\u001b[39;49m\u001b[43m:\u001b[49m\u001b[43m \u001b[49m\u001b[43mfile_paths\u001b[49m\u001b[43m}\u001b[49m\u001b[43m}\u001b[49m\u001b[43m)\u001b[49m\n",
      "File \u001b[1;32md:\\Chatbot_on_Documents\\Haystack\\chatbot\\Lib\\site-packages\\haystack\\pipeline.py:85\u001b[0m, in \u001b[0;36mPipeline.run\u001b[1;34m(self, data, debug)\u001b[0m\n\u001b[0;32m     83\u001b[0m is_nested_component_input \u001b[38;5;241m=\u001b[39m \u001b[38;5;28mall\u001b[39m(\u001b[38;5;28misinstance\u001b[39m(value, \u001b[38;5;28mdict\u001b[39m) \u001b[38;5;28;01mfor\u001b[39;00m value \u001b[38;5;129;01min\u001b[39;00m data\u001b[38;5;241m.\u001b[39mvalues())\n\u001b[0;32m     84\u001b[0m \u001b[38;5;28;01mif\u001b[39;00m is_nested_component_input:\n\u001b[1;32m---> 85\u001b[0m     \u001b[38;5;28;01mreturn\u001b[39;00m \u001b[38;5;28;43mself\u001b[39;49m\u001b[38;5;241;43m.\u001b[39;49m\u001b[43m_run_internal\u001b[49m\u001b[43m(\u001b[49m\u001b[43mdata\u001b[49m\u001b[38;5;241;43m=\u001b[39;49m\u001b[43mdata\u001b[49m\u001b[43m,\u001b[49m\u001b[43m \u001b[49m\u001b[43mdebug\u001b[49m\u001b[38;5;241;43m=\u001b[39;49m\u001b[43mdebug\u001b[49m\u001b[43m)\u001b[49m\n\u001b[0;32m     86\u001b[0m \u001b[38;5;28;01melse\u001b[39;00m:\n\u001b[0;32m     87\u001b[0m     \u001b[38;5;66;03m# flat input, a dict where keys are input names and values are the corresponding values\u001b[39;00m\n\u001b[0;32m     88\u001b[0m     \u001b[38;5;66;03m# we need to convert it to a nested dictionary of component inputs and then run the pipeline\u001b[39;00m\n\u001b[0;32m     89\u001b[0m     \u001b[38;5;66;03m# just like in the previous case\u001b[39;00m\n\u001b[0;32m     90\u001b[0m     pipeline_inputs, unresolved_inputs \u001b[38;5;241m=\u001b[39m \u001b[38;5;28mself\u001b[39m\u001b[38;5;241m.\u001b[39m_prepare_component_input_data(data)\n",
      "File \u001b[1;32md:\\Chatbot_on_Documents\\Haystack\\chatbot\\Lib\\site-packages\\haystack\\pipeline.py:111\u001b[0m, in \u001b[0;36mPipeline._run_internal\u001b[1;34m(self, data, debug)\u001b[0m\n\u001b[0;32m    100\u001b[0m \u001b[38;5;250m\u001b[39m\u001b[38;5;124;03m\"\"\"\u001b[39;00m\n\u001b[0;32m    101\u001b[0m \u001b[38;5;124;03mRuns the pipeline by invoking the underlying run to initiate the pipeline execution.\u001b[39;00m\n\u001b[0;32m    102\u001b[0m \n\u001b[1;32m   (...)\u001b[0m\n\u001b[0;32m    108\u001b[0m \u001b[38;5;124;03m:raises PipelineRuntimeError: if any of the components fail or return unexpected output.\u001b[39;00m\n\u001b[0;32m    109\u001b[0m \u001b[38;5;124;03m\"\"\"\u001b[39;00m\n\u001b[0;32m    110\u001b[0m pipeline_running(\u001b[38;5;28mself\u001b[39m)\n\u001b[1;32m--> 111\u001b[0m \u001b[38;5;28;01mreturn\u001b[39;00m \u001b[38;5;28;43msuper\u001b[39;49m\u001b[43m(\u001b[49m\u001b[43m)\u001b[49m\u001b[38;5;241;43m.\u001b[39;49m\u001b[43mrun\u001b[49m\u001b[43m(\u001b[49m\u001b[43mdata\u001b[49m\u001b[38;5;241;43m=\u001b[39;49m\u001b[43mdata\u001b[49m\u001b[43m,\u001b[49m\u001b[43m \u001b[49m\u001b[43mdebug\u001b[49m\u001b[38;5;241;43m=\u001b[39;49m\u001b[43mdebug\u001b[49m\u001b[43m)\u001b[49m\n",
      "File \u001b[1;32md:\\Chatbot_on_Documents\\Haystack\\chatbot\\Lib\\site-packages\\haystack\\core\\pipeline\\pipeline.py:502\u001b[0m, in \u001b[0;36mPipeline.run\u001b[1;34m(self, data, debug)\u001b[0m\n\u001b[0;32m    487\u001b[0m \u001b[38;5;28;01mdef\u001b[39;00m \u001b[38;5;21mrun\u001b[39m(  \u001b[38;5;66;03m# noqa: C901, PLR0912 pylint: disable=too-many-branches\u001b[39;00m\n\u001b[0;32m    488\u001b[0m     \u001b[38;5;28mself\u001b[39m, data: Dict[\u001b[38;5;28mstr\u001b[39m, Any], debug: \u001b[38;5;28mbool\u001b[39m \u001b[38;5;241m=\u001b[39m \u001b[38;5;28;01mFalse\u001b[39;00m\n\u001b[0;32m    489\u001b[0m ) \u001b[38;5;241m-\u001b[39m\u001b[38;5;241m>\u001b[39m Dict[\u001b[38;5;28mstr\u001b[39m, Any]:\n\u001b[1;32m   (...)\u001b[0m\n\u001b[0;32m    500\u001b[0m     \u001b[38;5;66;03m# TODO: Remove this warmup once we can check reliably whether a component has been warmed up or not\u001b[39;00m\n\u001b[0;32m    501\u001b[0m     \u001b[38;5;66;03m# As of now it's here to make sure we don't have failing tests that assume warm_up() is called in run()\u001b[39;00m\n\u001b[1;32m--> 502\u001b[0m     \u001b[38;5;28;43mself\u001b[39;49m\u001b[38;5;241;43m.\u001b[39;49m\u001b[43mwarm_up\u001b[49m\u001b[43m(\u001b[49m\u001b[43m)\u001b[49m\n\u001b[0;32m    504\u001b[0m     \u001b[38;5;66;03m# Raise if input is malformed in some way\u001b[39;00m\n\u001b[0;32m    505\u001b[0m     \u001b[38;5;28mself\u001b[39m\u001b[38;5;241m.\u001b[39m_validate_input(data)\n",
      "File \u001b[1;32md:\\Chatbot_on_Documents\\Haystack\\chatbot\\Lib\\site-packages\\haystack\\core\\pipeline\\pipeline.py:452\u001b[0m, in \u001b[0;36mPipeline.warm_up\u001b[1;34m(self)\u001b[0m\n\u001b[0;32m    450\u001b[0m \u001b[38;5;28;01mif\u001b[39;00m \u001b[38;5;28mhasattr\u001b[39m(\u001b[38;5;28mself\u001b[39m\u001b[38;5;241m.\u001b[39mgraph\u001b[38;5;241m.\u001b[39mnodes[node][\u001b[38;5;124m\"\u001b[39m\u001b[38;5;124minstance\u001b[39m\u001b[38;5;124m\"\u001b[39m], \u001b[38;5;124m\"\u001b[39m\u001b[38;5;124mwarm_up\u001b[39m\u001b[38;5;124m\"\u001b[39m):\n\u001b[0;32m    451\u001b[0m     logger\u001b[38;5;241m.\u001b[39minfo(\u001b[38;5;124m\"\u001b[39m\u001b[38;5;124mWarming up component \u001b[39m\u001b[38;5;132;01m%s\u001b[39;00m\u001b[38;5;124m...\u001b[39m\u001b[38;5;124m\"\u001b[39m, node)\n\u001b[1;32m--> 452\u001b[0m     \u001b[38;5;28;43mself\u001b[39;49m\u001b[38;5;241;43m.\u001b[39;49m\u001b[43mgraph\u001b[49m\u001b[38;5;241;43m.\u001b[39;49m\u001b[43mnodes\u001b[49m\u001b[43m[\u001b[49m\u001b[43mnode\u001b[49m\u001b[43m]\u001b[49m\u001b[43m[\u001b[49m\u001b[38;5;124;43m\"\u001b[39;49m\u001b[38;5;124;43minstance\u001b[39;49m\u001b[38;5;124;43m\"\u001b[39;49m\u001b[43m]\u001b[49m\u001b[38;5;241;43m.\u001b[39;49m\u001b[43mwarm_up\u001b[49m\u001b[43m(\u001b[49m\u001b[43m)\u001b[49m\n",
      "File \u001b[1;32md:\\Chatbot_on_Documents\\Haystack\\chatbot\\Lib\\site-packages\\haystack\\components\\embedders\\sentence_transformers_document_embedder.py:109\u001b[0m, in \u001b[0;36mSentenceTransformersDocumentEmbedder.warm_up\u001b[1;34m(self)\u001b[0m\n\u001b[0;32m    105\u001b[0m \u001b[38;5;250m\u001b[39m\u001b[38;5;124;03m\"\"\"\u001b[39;00m\n\u001b[0;32m    106\u001b[0m \u001b[38;5;124;03mLoad the embedding backend.\u001b[39;00m\n\u001b[0;32m    107\u001b[0m \u001b[38;5;124;03m\"\"\"\u001b[39;00m\n\u001b[0;32m    108\u001b[0m \u001b[38;5;28;01mif\u001b[39;00m \u001b[38;5;129;01mnot\u001b[39;00m \u001b[38;5;28mhasattr\u001b[39m(\u001b[38;5;28mself\u001b[39m, \u001b[38;5;124m\"\u001b[39m\u001b[38;5;124membedding_backend\u001b[39m\u001b[38;5;124m\"\u001b[39m):\n\u001b[1;32m--> 109\u001b[0m     \u001b[38;5;28mself\u001b[39m\u001b[38;5;241m.\u001b[39membedding_backend \u001b[38;5;241m=\u001b[39m \u001b[43m_SentenceTransformersEmbeddingBackendFactory\u001b[49m\u001b[38;5;241;43m.\u001b[39;49m\u001b[43mget_embedding_backend\u001b[49m\u001b[43m(\u001b[49m\n\u001b[0;32m    110\u001b[0m \u001b[43m        \u001b[49m\u001b[43mmodel\u001b[49m\u001b[38;5;241;43m=\u001b[39;49m\u001b[38;5;28;43mself\u001b[39;49m\u001b[38;5;241;43m.\u001b[39;49m\u001b[43mmodel\u001b[49m\u001b[43m,\u001b[49m\u001b[43m \u001b[49m\u001b[43mdevice\u001b[49m\u001b[38;5;241;43m=\u001b[39;49m\u001b[38;5;28;43mself\u001b[39;49m\u001b[38;5;241;43m.\u001b[39;49m\u001b[43mdevice\u001b[49m\u001b[43m,\u001b[49m\u001b[43m \u001b[49m\u001b[43mauth_token\u001b[49m\u001b[38;5;241;43m=\u001b[39;49m\u001b[38;5;28;43mself\u001b[39;49m\u001b[38;5;241;43m.\u001b[39;49m\u001b[43mtoken\u001b[49m\n\u001b[0;32m    111\u001b[0m \u001b[43m    \u001b[49m\u001b[43m)\u001b[49m\n",
      "File \u001b[1;32md:\\Chatbot_on_Documents\\Haystack\\chatbot\\Lib\\site-packages\\haystack\\components\\embedders\\backends\\sentence_transformers_backend.py:23\u001b[0m, in \u001b[0;36m_SentenceTransformersEmbeddingBackendFactory.get_embedding_backend\u001b[1;34m(model, device, auth_token)\u001b[0m\n\u001b[0;32m     21\u001b[0m \u001b[38;5;28;01mif\u001b[39;00m embedding_backend_id \u001b[38;5;129;01min\u001b[39;00m _SentenceTransformersEmbeddingBackendFactory\u001b[38;5;241m.\u001b[39m_instances:\n\u001b[0;32m     22\u001b[0m     \u001b[38;5;28;01mreturn\u001b[39;00m _SentenceTransformersEmbeddingBackendFactory\u001b[38;5;241m.\u001b[39m_instances[embedding_backend_id]\n\u001b[1;32m---> 23\u001b[0m embedding_backend \u001b[38;5;241m=\u001b[39m \u001b[43m_SentenceTransformersEmbeddingBackend\u001b[49m\u001b[43m(\u001b[49m\u001b[43mmodel\u001b[49m\u001b[38;5;241;43m=\u001b[39;49m\u001b[43mmodel\u001b[49m\u001b[43m,\u001b[49m\u001b[43m \u001b[49m\u001b[43mdevice\u001b[49m\u001b[38;5;241;43m=\u001b[39;49m\u001b[43mdevice\u001b[49m\u001b[43m,\u001b[49m\u001b[43m \u001b[49m\u001b[43mauth_token\u001b[49m\u001b[38;5;241;43m=\u001b[39;49m\u001b[43mauth_token\u001b[49m\u001b[43m)\u001b[49m\n\u001b[0;32m     24\u001b[0m _SentenceTransformersEmbeddingBackendFactory\u001b[38;5;241m.\u001b[39m_instances[embedding_backend_id] \u001b[38;5;241m=\u001b[39m embedding_backend\n\u001b[0;32m     25\u001b[0m \u001b[38;5;28;01mreturn\u001b[39;00m embedding_backend\n",
      "File \u001b[1;32md:\\Chatbot_on_Documents\\Haystack\\chatbot\\Lib\\site-packages\\haystack\\components\\embedders\\backends\\sentence_transformers_backend.py:35\u001b[0m, in \u001b[0;36m_SentenceTransformersEmbeddingBackend.__init__\u001b[1;34m(self, model, device, auth_token)\u001b[0m\n\u001b[0;32m     33\u001b[0m \u001b[38;5;28;01mdef\u001b[39;00m \u001b[38;5;21m__init__\u001b[39m(\u001b[38;5;28mself\u001b[39m, model: \u001b[38;5;28mstr\u001b[39m, device: Optional[\u001b[38;5;28mstr\u001b[39m] \u001b[38;5;241m=\u001b[39m \u001b[38;5;28;01mNone\u001b[39;00m, auth_token: Optional[Secret] \u001b[38;5;241m=\u001b[39m \u001b[38;5;28;01mNone\u001b[39;00m):\n\u001b[0;32m     34\u001b[0m     sentence_transformers_import\u001b[38;5;241m.\u001b[39mcheck()\n\u001b[1;32m---> 35\u001b[0m     \u001b[38;5;28mself\u001b[39m\u001b[38;5;241m.\u001b[39mmodel \u001b[38;5;241m=\u001b[39m \u001b[43mSentenceTransformer\u001b[49m\u001b[43m(\u001b[49m\n\u001b[0;32m     36\u001b[0m \u001b[43m        \u001b[49m\u001b[43mmodel_name_or_path\u001b[49m\u001b[38;5;241;43m=\u001b[39;49m\u001b[43mmodel\u001b[49m\u001b[43m,\u001b[49m\u001b[43m \u001b[49m\u001b[43mdevice\u001b[49m\u001b[38;5;241;43m=\u001b[39;49m\u001b[43mdevice\u001b[49m\u001b[43m,\u001b[49m\u001b[43m \u001b[49m\u001b[43muse_auth_token\u001b[49m\u001b[38;5;241;43m=\u001b[39;49m\u001b[43mauth_token\u001b[49m\u001b[38;5;241;43m.\u001b[39;49m\u001b[43mresolve_value\u001b[49m\u001b[43m(\u001b[49m\u001b[43m)\u001b[49m\u001b[43m \u001b[49m\u001b[38;5;28;43;01mif\u001b[39;49;00m\u001b[43m \u001b[49m\u001b[43mauth_token\u001b[49m\u001b[43m \u001b[49m\u001b[38;5;28;43;01melse\u001b[39;49;00m\u001b[43m \u001b[49m\u001b[38;5;28;43;01mNone\u001b[39;49;00m\n\u001b[0;32m     37\u001b[0m \u001b[43m    \u001b[49m\u001b[43m)\u001b[49m\n",
      "File \u001b[1;32md:\\Chatbot_on_Documents\\Haystack\\chatbot\\Lib\\site-packages\\sentence_transformers\\SentenceTransformer.py:218\u001b[0m, in \u001b[0;36mSentenceTransformer.__init__\u001b[1;34m(self, model_name_or_path, modules, device, cache_folder, trust_remote_code, revision, token, use_auth_token)\u001b[0m\n\u001b[0;32m    215\u001b[0m     device \u001b[38;5;241m=\u001b[39m get_device_name()\n\u001b[0;32m    216\u001b[0m     logger\u001b[38;5;241m.\u001b[39minfo(\u001b[38;5;124m\"\u001b[39m\u001b[38;5;124mUse pytorch device_name: \u001b[39m\u001b[38;5;132;01m{}\u001b[39;00m\u001b[38;5;124m\"\u001b[39m\u001b[38;5;241m.\u001b[39mformat(device))\n\u001b[1;32m--> 218\u001b[0m \u001b[38;5;28;43mself\u001b[39;49m\u001b[38;5;241;43m.\u001b[39;49m\u001b[43mto\u001b[49m\u001b[43m(\u001b[49m\u001b[43mdevice\u001b[49m\u001b[43m)\u001b[49m\n",
      "File \u001b[1;32md:\\Chatbot_on_Documents\\Haystack\\chatbot\\Lib\\site-packages\\torch\\nn\\modules\\module.py:1152\u001b[0m, in \u001b[0;36mModule.to\u001b[1;34m(self, *args, **kwargs)\u001b[0m\n\u001b[0;32m   1148\u001b[0m         \u001b[38;5;28;01mreturn\u001b[39;00m t\u001b[38;5;241m.\u001b[39mto(device, dtype \u001b[38;5;28;01mif\u001b[39;00m t\u001b[38;5;241m.\u001b[39mis_floating_point() \u001b[38;5;129;01mor\u001b[39;00m t\u001b[38;5;241m.\u001b[39mis_complex() \u001b[38;5;28;01melse\u001b[39;00m \u001b[38;5;28;01mNone\u001b[39;00m,\n\u001b[0;32m   1149\u001b[0m                     non_blocking, memory_format\u001b[38;5;241m=\u001b[39mconvert_to_format)\n\u001b[0;32m   1150\u001b[0m     \u001b[38;5;28;01mreturn\u001b[39;00m t\u001b[38;5;241m.\u001b[39mto(device, dtype \u001b[38;5;28;01mif\u001b[39;00m t\u001b[38;5;241m.\u001b[39mis_floating_point() \u001b[38;5;129;01mor\u001b[39;00m t\u001b[38;5;241m.\u001b[39mis_complex() \u001b[38;5;28;01melse\u001b[39;00m \u001b[38;5;28;01mNone\u001b[39;00m, non_blocking)\n\u001b[1;32m-> 1152\u001b[0m \u001b[38;5;28;01mreturn\u001b[39;00m \u001b[38;5;28;43mself\u001b[39;49m\u001b[38;5;241;43m.\u001b[39;49m\u001b[43m_apply\u001b[49m\u001b[43m(\u001b[49m\u001b[43mconvert\u001b[49m\u001b[43m)\u001b[49m\n",
      "File \u001b[1;32md:\\Chatbot_on_Documents\\Haystack\\chatbot\\Lib\\site-packages\\torch\\nn\\modules\\module.py:802\u001b[0m, in \u001b[0;36mModule._apply\u001b[1;34m(self, fn, recurse)\u001b[0m\n\u001b[0;32m    800\u001b[0m \u001b[38;5;28;01mif\u001b[39;00m recurse:\n\u001b[0;32m    801\u001b[0m     \u001b[38;5;28;01mfor\u001b[39;00m module \u001b[38;5;129;01min\u001b[39;00m \u001b[38;5;28mself\u001b[39m\u001b[38;5;241m.\u001b[39mchildren():\n\u001b[1;32m--> 802\u001b[0m         \u001b[43mmodule\u001b[49m\u001b[38;5;241;43m.\u001b[39;49m\u001b[43m_apply\u001b[49m\u001b[43m(\u001b[49m\u001b[43mfn\u001b[49m\u001b[43m)\u001b[49m\n\u001b[0;32m    804\u001b[0m \u001b[38;5;28;01mdef\u001b[39;00m \u001b[38;5;21mcompute_should_use_set_data\u001b[39m(tensor, tensor_applied):\n\u001b[0;32m    805\u001b[0m     \u001b[38;5;28;01mif\u001b[39;00m torch\u001b[38;5;241m.\u001b[39m_has_compatible_shallow_copy_type(tensor, tensor_applied):\n\u001b[0;32m    806\u001b[0m         \u001b[38;5;66;03m# If the new tensor has compatible tensor type as the existing tensor,\u001b[39;00m\n\u001b[0;32m    807\u001b[0m         \u001b[38;5;66;03m# the current behavior is to change the tensor in-place using `.data =`,\u001b[39;00m\n\u001b[1;32m   (...)\u001b[0m\n\u001b[0;32m    812\u001b[0m         \u001b[38;5;66;03m# global flag to let the user control whether they want the future\u001b[39;00m\n\u001b[0;32m    813\u001b[0m         \u001b[38;5;66;03m# behavior of overwriting the existing tensor or not.\u001b[39;00m\n",
      "File \u001b[1;32md:\\Chatbot_on_Documents\\Haystack\\chatbot\\Lib\\site-packages\\torch\\nn\\modules\\module.py:802\u001b[0m, in \u001b[0;36mModule._apply\u001b[1;34m(self, fn, recurse)\u001b[0m\n\u001b[0;32m    800\u001b[0m \u001b[38;5;28;01mif\u001b[39;00m recurse:\n\u001b[0;32m    801\u001b[0m     \u001b[38;5;28;01mfor\u001b[39;00m module \u001b[38;5;129;01min\u001b[39;00m \u001b[38;5;28mself\u001b[39m\u001b[38;5;241m.\u001b[39mchildren():\n\u001b[1;32m--> 802\u001b[0m         \u001b[43mmodule\u001b[49m\u001b[38;5;241;43m.\u001b[39;49m\u001b[43m_apply\u001b[49m\u001b[43m(\u001b[49m\u001b[43mfn\u001b[49m\u001b[43m)\u001b[49m\n\u001b[0;32m    804\u001b[0m \u001b[38;5;28;01mdef\u001b[39;00m \u001b[38;5;21mcompute_should_use_set_data\u001b[39m(tensor, tensor_applied):\n\u001b[0;32m    805\u001b[0m     \u001b[38;5;28;01mif\u001b[39;00m torch\u001b[38;5;241m.\u001b[39m_has_compatible_shallow_copy_type(tensor, tensor_applied):\n\u001b[0;32m    806\u001b[0m         \u001b[38;5;66;03m# If the new tensor has compatible tensor type as the existing tensor,\u001b[39;00m\n\u001b[0;32m    807\u001b[0m         \u001b[38;5;66;03m# the current behavior is to change the tensor in-place using `.data =`,\u001b[39;00m\n\u001b[1;32m   (...)\u001b[0m\n\u001b[0;32m    812\u001b[0m         \u001b[38;5;66;03m# global flag to let the user control whether they want the future\u001b[39;00m\n\u001b[0;32m    813\u001b[0m         \u001b[38;5;66;03m# behavior of overwriting the existing tensor or not.\u001b[39;00m\n",
      "    \u001b[1;31m[... skipping similar frames: Module._apply at line 802 (1 times)]\u001b[0m\n",
      "File \u001b[1;32md:\\Chatbot_on_Documents\\Haystack\\chatbot\\Lib\\site-packages\\torch\\nn\\modules\\module.py:802\u001b[0m, in \u001b[0;36mModule._apply\u001b[1;34m(self, fn, recurse)\u001b[0m\n\u001b[0;32m    800\u001b[0m \u001b[38;5;28;01mif\u001b[39;00m recurse:\n\u001b[0;32m    801\u001b[0m     \u001b[38;5;28;01mfor\u001b[39;00m module \u001b[38;5;129;01min\u001b[39;00m \u001b[38;5;28mself\u001b[39m\u001b[38;5;241m.\u001b[39mchildren():\n\u001b[1;32m--> 802\u001b[0m         \u001b[43mmodule\u001b[49m\u001b[38;5;241;43m.\u001b[39;49m\u001b[43m_apply\u001b[49m\u001b[43m(\u001b[49m\u001b[43mfn\u001b[49m\u001b[43m)\u001b[49m\n\u001b[0;32m    804\u001b[0m \u001b[38;5;28;01mdef\u001b[39;00m \u001b[38;5;21mcompute_should_use_set_data\u001b[39m(tensor, tensor_applied):\n\u001b[0;32m    805\u001b[0m     \u001b[38;5;28;01mif\u001b[39;00m torch\u001b[38;5;241m.\u001b[39m_has_compatible_shallow_copy_type(tensor, tensor_applied):\n\u001b[0;32m    806\u001b[0m         \u001b[38;5;66;03m# If the new tensor has compatible tensor type as the existing tensor,\u001b[39;00m\n\u001b[0;32m    807\u001b[0m         \u001b[38;5;66;03m# the current behavior is to change the tensor in-place using `.data =`,\u001b[39;00m\n\u001b[1;32m   (...)\u001b[0m\n\u001b[0;32m    812\u001b[0m         \u001b[38;5;66;03m# global flag to let the user control whether they want the future\u001b[39;00m\n\u001b[0;32m    813\u001b[0m         \u001b[38;5;66;03m# behavior of overwriting the existing tensor or not.\u001b[39;00m\n",
      "File \u001b[1;32md:\\Chatbot_on_Documents\\Haystack\\chatbot\\Lib\\site-packages\\torch\\nn\\modules\\module.py:825\u001b[0m, in \u001b[0;36mModule._apply\u001b[1;34m(self, fn, recurse)\u001b[0m\n\u001b[0;32m    821\u001b[0m \u001b[38;5;66;03m# Tensors stored in modules are graph leaves, and we don't want to\u001b[39;00m\n\u001b[0;32m    822\u001b[0m \u001b[38;5;66;03m# track autograd history of `param_applied`, so we have to use\u001b[39;00m\n\u001b[0;32m    823\u001b[0m \u001b[38;5;66;03m# `with torch.no_grad():`\u001b[39;00m\n\u001b[0;32m    824\u001b[0m \u001b[38;5;28;01mwith\u001b[39;00m torch\u001b[38;5;241m.\u001b[39mno_grad():\n\u001b[1;32m--> 825\u001b[0m     param_applied \u001b[38;5;241m=\u001b[39m \u001b[43mfn\u001b[49m\u001b[43m(\u001b[49m\u001b[43mparam\u001b[49m\u001b[43m)\u001b[49m\n\u001b[0;32m    826\u001b[0m should_use_set_data \u001b[38;5;241m=\u001b[39m compute_should_use_set_data(param, param_applied)\n\u001b[0;32m    827\u001b[0m \u001b[38;5;28;01mif\u001b[39;00m should_use_set_data:\n",
      "File \u001b[1;32md:\\Chatbot_on_Documents\\Haystack\\chatbot\\Lib\\site-packages\\torch\\nn\\modules\\module.py:1150\u001b[0m, in \u001b[0;36mModule.to.<locals>.convert\u001b[1;34m(t)\u001b[0m\n\u001b[0;32m   1147\u001b[0m \u001b[38;5;28;01mif\u001b[39;00m convert_to_format \u001b[38;5;129;01mis\u001b[39;00m \u001b[38;5;129;01mnot\u001b[39;00m \u001b[38;5;28;01mNone\u001b[39;00m \u001b[38;5;129;01mand\u001b[39;00m t\u001b[38;5;241m.\u001b[39mdim() \u001b[38;5;129;01min\u001b[39;00m (\u001b[38;5;241m4\u001b[39m, \u001b[38;5;241m5\u001b[39m):\n\u001b[0;32m   1148\u001b[0m     \u001b[38;5;28;01mreturn\u001b[39;00m t\u001b[38;5;241m.\u001b[39mto(device, dtype \u001b[38;5;28;01mif\u001b[39;00m t\u001b[38;5;241m.\u001b[39mis_floating_point() \u001b[38;5;129;01mor\u001b[39;00m t\u001b[38;5;241m.\u001b[39mis_complex() \u001b[38;5;28;01melse\u001b[39;00m \u001b[38;5;28;01mNone\u001b[39;00m,\n\u001b[0;32m   1149\u001b[0m                 non_blocking, memory_format\u001b[38;5;241m=\u001b[39mconvert_to_format)\n\u001b[1;32m-> 1150\u001b[0m \u001b[38;5;28;01mreturn\u001b[39;00m \u001b[43mt\u001b[49m\u001b[38;5;241;43m.\u001b[39;49m\u001b[43mto\u001b[49m\u001b[43m(\u001b[49m\u001b[43mdevice\u001b[49m\u001b[43m,\u001b[49m\u001b[43m \u001b[49m\u001b[43mdtype\u001b[49m\u001b[43m \u001b[49m\u001b[38;5;28;43;01mif\u001b[39;49;00m\u001b[43m \u001b[49m\u001b[43mt\u001b[49m\u001b[38;5;241;43m.\u001b[39;49m\u001b[43mis_floating_point\u001b[49m\u001b[43m(\u001b[49m\u001b[43m)\u001b[49m\u001b[43m \u001b[49m\u001b[38;5;129;43;01mor\u001b[39;49;00m\u001b[43m \u001b[49m\u001b[43mt\u001b[49m\u001b[38;5;241;43m.\u001b[39;49m\u001b[43mis_complex\u001b[49m\u001b[43m(\u001b[49m\u001b[43m)\u001b[49m\u001b[43m \u001b[49m\u001b[38;5;28;43;01melse\u001b[39;49;00m\u001b[43m \u001b[49m\u001b[38;5;28;43;01mNone\u001b[39;49;00m\u001b[43m,\u001b[49m\u001b[43m \u001b[49m\u001b[43mnon_blocking\u001b[49m\u001b[43m)\u001b[49m\n",
      "File \u001b[1;32md:\\Chatbot_on_Documents\\Haystack\\chatbot\\Lib\\site-packages\\torch\\cuda\\__init__.py:293\u001b[0m, in \u001b[0;36m_lazy_init\u001b[1;34m()\u001b[0m\n\u001b[0;32m    288\u001b[0m     \u001b[38;5;28;01mraise\u001b[39;00m \u001b[38;5;167;01mRuntimeError\u001b[39;00m(\n\u001b[0;32m    289\u001b[0m         \u001b[38;5;124m\"\u001b[39m\u001b[38;5;124mCannot re-initialize CUDA in forked subprocess. To use CUDA with \u001b[39m\u001b[38;5;124m\"\u001b[39m\n\u001b[0;32m    290\u001b[0m         \u001b[38;5;124m\"\u001b[39m\u001b[38;5;124mmultiprocessing, you must use the \u001b[39m\u001b[38;5;124m'\u001b[39m\u001b[38;5;124mspawn\u001b[39m\u001b[38;5;124m'\u001b[39m\u001b[38;5;124m start method\u001b[39m\u001b[38;5;124m\"\u001b[39m\n\u001b[0;32m    291\u001b[0m     )\n\u001b[0;32m    292\u001b[0m \u001b[38;5;28;01mif\u001b[39;00m \u001b[38;5;129;01mnot\u001b[39;00m \u001b[38;5;28mhasattr\u001b[39m(torch\u001b[38;5;241m.\u001b[39m_C, \u001b[38;5;124m\"\u001b[39m\u001b[38;5;124m_cuda_getDeviceCount\u001b[39m\u001b[38;5;124m\"\u001b[39m):\n\u001b[1;32m--> 293\u001b[0m     \u001b[38;5;28;01mraise\u001b[39;00m \u001b[38;5;167;01mAssertionError\u001b[39;00m(\u001b[38;5;124m\"\u001b[39m\u001b[38;5;124mTorch not compiled with CUDA enabled\u001b[39m\u001b[38;5;124m\"\u001b[39m)\n\u001b[0;32m    294\u001b[0m \u001b[38;5;28;01mif\u001b[39;00m _cudart \u001b[38;5;129;01mis\u001b[39;00m \u001b[38;5;28;01mNone\u001b[39;00m:\n\u001b[0;32m    295\u001b[0m     \u001b[38;5;28;01mraise\u001b[39;00m \u001b[38;5;167;01mAssertionError\u001b[39;00m(\n\u001b[0;32m    296\u001b[0m         \u001b[38;5;124m\"\u001b[39m\u001b[38;5;124mlibcudart functions unavailable. It looks like you have a broken build?\u001b[39m\u001b[38;5;124m\"\u001b[39m\n\u001b[0;32m    297\u001b[0m     )\n",
      "\u001b[1;31mAssertionError\u001b[0m: Torch not compiled with CUDA enabled"
     ]
    }
   ],
   "source": [
    "pipeline.run({\"converter\": {\"sources\": file_paths}})"
   ]
  },
  {
   "cell_type": "code",
   "execution_count": 13,
   "id": "b3cf54d5",
   "metadata": {},
   "outputs": [
    {
     "name": "stdout",
     "output_type": "stream",
     "text": [
      "2.2.0+cpu\n"
     ]
    }
   ],
   "source": [
    "import torch\n",
    "print(torch.__version__)"
   ]
  },
  {
   "cell_type": "code",
   "execution_count": 4,
   "id": "f9b85761",
   "metadata": {},
   "outputs": [
    {
     "name": "stdout",
     "output_type": "stream",
     "text": [
      "d:\\Chatbot_on_Documents\\Haystack\\chatbot\\Scripts\\python.exe\n"
     ]
    }
   ],
   "source": [
    "import sys\n",
    "print(sys.executable)"
   ]
  },
  {
   "cell_type": "code",
   "execution_count": 1,
   "id": "64c032bb",
   "metadata": {},
   "outputs": [
    {
     "name": "stdout",
     "output_type": "stream",
     "text": [
      "False\n"
     ]
    }
   ],
   "source": [
    "import torch\n",
    "print(torch.cuda.is_available())  # True if CUDA is enabled"
   ]
  },
  {
   "cell_type": "markdown",
   "id": "a4abd9da",
   "metadata": {},
   "source": [
    "## Checking documents stored in VectorDB"
   ]
  },
  {
   "cell_type": "code",
   "execution_count": 6,
   "id": "5d27d207",
   "metadata": {},
   "outputs": [
    {
     "data": {
      "text/plain": [
       "91"
      ]
     },
     "execution_count": 6,
     "metadata": {},
     "output_type": "execute_result"
    }
   ],
   "source": [
    "len(document_store_dfpds.filter_documents())"
   ]
  },
  {
   "cell_type": "code",
   "execution_count": 7,
   "id": "7242f918",
   "metadata": {},
   "outputs": [
    {
     "name": "stdout",
     "output_type": "stream",
     "text": [
      "{'file_path': 'data2/DFPDS21.pdf',\n",
      " 'source_id': '61332544334c212279e087776deab7308d05af2da5bb1de7a775f593201a91ed'}\n"
     ]
    }
   ],
   "source": [
    "pprint(document_store_dfpds.filter_documents()[45].meta)"
   ]
  },
  {
   "cell_type": "code",
   "execution_count": 7,
   "id": "7ecb81e1",
   "metadata": {},
   "outputs": [
    {
     "name": "stdout",
     "output_type": "stream",
     "text": [
      "('the period to which lost documents pertain.\\n'\n",
      " '(d) Irregularities connected with the use of M.T.\\n'\n",
      " '2. In the case of objections which involve loss to the State, efforts will '\n",
      " 'be made to assess the actual/ approximate financial value of the loss. These '\n",
      " 'powers are to be exercised only if –\\n'\n",
      " '(a) The necessity for and the practicability of recovery has been considered '\n",
      " 'by the CFA.\\n'\n",
      " '(b) The irregularity does not disclose a defect in the rules or regulations '\n",
      " 'the amendment of which requires the sanction of the Government vide Rule 157 '\n",
      " 'FR Part I Vol I.(c) The authorities concerned (or their predecessors) are '\n",
      " 'themselves not personally responsible for the loss/ overpayment/ '\n",
      " 'irregularity.(d) Prior approval of the next higher financial authority shall '\n",
      " 'be obtained in respect of cases mentioned at (c) above.(e) Objections, which '\n",
      " 'do not involve any loss to the State or when the monetary loss is not '\n",
      " 'assessable, be referred to the respective Administrative Authorities/ Head '\n",
      " 'of the Branch at Air HQs for Establishments under the direct administrative '\n",
      " 'control of Air HQs.\\n'\n",
      " '(f) Copies of sanctions issued for the settlement of audit objections shall '\n",
      " 'also be endorsed to the statutory Audit Officers concerned.137(g) The '\n",
      " 'financial powers contained in these orders are to be utilized for '\n",
      " 'regularization of cases outstanding as on date of issue of these orders.\\n'\n",
      " '(h) PCDA/ CDA will report to the Govt of India cases in which the intention '\n",
      " 'of this rule has been misapplied\\n'\n",
      " '22.12 Write off of Losses of Stores Including MT Vehicles and MES Stores Due '\n",
      " 'to Theft, Fraud or Gross Neglect\\n'\n",
      " 'VCAS/ DCAS/ AOM/ AOP/ AOA/ DG (I&S) 1.5 15\\n'\n",
      " 'AOC-in-C 0.75 10.5\\n'\n",
      " 'Commandant AFA/ SDI/ ASTE/ CAW/ SOA/ SAASO/ SMSO/ AOES or AOLM at Command '\n",
      " 'HQs/ ACAS Lgs (For units under Air HQ)/ ACAS (Accts) - (for writing off '\n",
      " 'debit balance of non-effective IRLA)1.5 6\\n'\n",
      " 'AOC/ Comdt/ Stn Cdr/ CO/ OC Self Accounting Unit - (Air Cmde & below)0.5 4\\n'\n",
      " '22.13\\n'\n",
      " 'Write off of Losses of Public money Due to Theft, Fraud or Gross Neglect\\n'\n",
      " 'VCAS/ DCAS/ AOM/ AOP/ AOA/ DG (I&S) 1 10\\n'\n",
      " 'AOC-in-C 0.5 7\\n'\n",
      " 'Commandant AFA/ SDI/ ASTE/ CAW/ SOA/ SAASO/ SMSO/ AOES or AOLM at Command '\n",
      " 'HQs/ ACAS Lgs (For units under Air HQ)/ ACAS (Accts) - (for writing off '\n",
      " 'debit balance of non-effective IRLA)1 4\\n'\n",
      " 'AOC/ Comdt/ Stn Cdr/ CO/ OC Self Accounting Unit - (Air Cmde & below)0.5 2\\n'\n",
      " '22.14\\n'\n",
      " 'Write off of Losses of Public money and Stores Including MT Vehicles and MES '\n",
      " 'Stores Not Due to Theft, Fraud or Gross Neglect.\\n'\n",
      " 'VCAS/ DCAS/ ')\n"
     ]
    }
   ],
   "source": [
    "pprint(document_store_dfpds.filter_documents()[65].content)"
   ]
  },
  {
   "cell_type": "markdown",
   "id": "08cee57f",
   "metadata": {},
   "source": [
    "## Initialize Generator"
   ]
  },
  {
   "cell_type": "code",
   "execution_count": 8,
   "id": "acbc5839",
   "metadata": {},
   "outputs": [],
   "source": [
    "\n",
    "generator = HuggingFaceLocalGenerator(\"mistralai/Mistral-7B-Instruct-v0.1\",\n",
    "                                 huggingface_pipeline_kwargs={\"device_map\":\"auto\",\n",
    "                                               \"model_kwargs\":{\"load_in_4bit\":True,\n",
    "                                                \"bnb_4bit_use_double_quant\":True,\n",
    "                                                \"bnb_4bit_quant_type\":\"nf4\",\n",
    "                                                \"bnb_4bit_compute_dtype\":torch.bfloat16}},\n",
    "                                 generation_kwargs={\"max_new_tokens\": 800})"
   ]
  },
  {
   "cell_type": "code",
   "execution_count": 9,
   "id": "be964d2f",
   "metadata": {},
   "outputs": [
    {
     "name": "stderr",
     "output_type": "stream",
     "text": [
      "Loading checkpoint shards: 100%|██████████| 2/2 [00:05<00:00,  2.78s/it]\n"
     ]
    }
   ],
   "source": [
    "generator.warm_up()"
   ]
  },
  {
   "cell_type": "code",
   "execution_count": null,
   "id": "21a97e16",
   "metadata": {},
   "outputs": [],
   "source": [
    "# quick check for generator \n",
    "rich.print(generator.run(\"Please write a poem about America.\"))"
   ]
  },
  {
   "cell_type": "markdown",
   "id": "15d310ad",
   "metadata": {},
   "source": [
    "## Creating Prompt template "
   ]
  },
  {
   "cell_type": "code",
   "execution_count": 10,
   "id": "a9b04b07",
   "metadata": {},
   "outputs": [],
   "source": [
    "\n",
    "prompt_template = \"\"\"<|system|> Using the information contained in the context, give a comprehensive answer to the question.\n",
    "If the answer is contained in the context, also report the source data.\n",
    "If the answer cannot be deduced from the context, do not give an answer.</s>\n",
    "<|user|>\n",
    "Context:\n",
    "  {% for doc in documents %}\n",
    "  {{ doc.content }} \n",
    "  {% endfor %};\n",
    "  \\nQuestion: {{query}}\n",
    "  </s>\n",
    "  \n",
    "Example:\n",
    "\\nQuestion:What are the documents and stages for undertaking an open tender enquiry under DFPDS schedule 19.3?\n",
    "\\nAnswer: 1. In Principal Approval (IPA):\n",
    "   - What happens: Getting the initial approval to proceed with the procurement.\n",
    "   - Documents involved: Explanation of the project, what needs to be done, how much it will cost, and any financial support needed.\n",
    "   - Key point: This approval comes from the Central Financial Assistance (CFA) after proper discussions.\n",
    "\n",
    "2. Acceptance of Necessity (AoN):\n",
    "   - What happens: Confirming that there's a genuine need for the procurement and estimating the costs.\n",
    "   - Documents involved: Cost estimates, comparisons with previous purchases, and making sure the plan is clear.\n",
    "   - Key point: The CFA approves this, considering suggestions from the Independent Financial Advisor (IFA) if needed.\n",
    "\n",
    "3. Upload Bid on GeM:\n",
    "   - What happens: Putting the details of the procurement online, especially on the Government e-Marketplace (GeM).\n",
    "   - Key point: Timing depends on the type of procurement.\n",
    "\n",
    "4. Technical Evaluation Committee (TEC):\n",
    "   - What happens: Checking if the bidders meet the technical requirements.\n",
    "   - Documents involved: Scrutinizing documents submitted by bidders and ensuring they meet the specified criteria.\n",
    "   - Key point: Non-compliant bidders get a chance to fix issues within 48 hours.\n",
    "\n",
    "5. Benchmarking:\n",
    "   - What happens: Comparing the estimated costs with market prices to ensure fairness.\n",
    "   - Documents involved: Checking how prices compare to what was estimated.\n",
    "   - Key point: Prices are set a bit higher than the initial estimates.\n",
    "\n",
    "6. Commercial Opening of Bid (COB):\n",
    "   - What happens: Opening bids to see the prices submitted by compliant bidders.\n",
    "   - Key point: Analysis of prices helps decide if negotiation is needed with the top bidder. Reverse auction may happen if multiple bidders qualify.\n",
    "\n",
    "7. Cost Negotiation Committee (CNC)/Price Negotiation Committee (PNC):\n",
    "   - What happens: Checking if the costs can be negotiated and if it aligns with guidelines.\n",
    "   - Key point: Negotiations are done, and financial details are recommended for approval. All this is reviewed by the CFA.\n",
    "\n",
    "8. Expenditure Angle Sanction (EAS):\n",
    "   - What happens: Getting the final approval for the expenses from the CFA.\n",
    "   - Key point: This is the green light to go ahead with the procurement.\n",
    "\n",
    "9. Supply Order:\n",
    "   - What happens: Placing the order with the chosen bidder.\n",
    "   - Key point: The procurement process is complete, and the chosen bidder is officially hired to do the job.\n",
    "\n",
    "<|assistant|>\n",
    "\\nAnswer:\n",
    "\"\"\"\n",
    "prompt_builder = PromptBuilder(template=prompt_template)"
   ]
  },
  {
   "cell_type": "code",
   "execution_count": null,
   "id": "cfa0d99b",
   "metadata": {},
   "outputs": [],
   "source": [
    "# rag = Pipeline()\n",
    "# rag.add_component(\"text_embedder\", SentenceTransformersTextEmbedder(model_name_or_path=\"thenlper/gte-large\", device=\"cuda:0\"))\n",
    "# rag.add_component(\"retriever\", ElasticsearchEmbeddingRetriever(document_store=document_store_dfpds, top_k=3))\n",
    "# rag.add_component(\"prompt_builder\", prompt_builder)\n",
    "# rag.add_component(\"llm\", generator)\n",
    "\n",
    "# rag.connect(\"text_embedder\", \"retriever\")\n",
    "# rag.connect(\"retriever.documents\", \"prompt_builder.documents\")\n",
    "# rag.connect(\"prompt_builder.prompt\", \"llm.prompt\")"
   ]
  },
  {
   "cell_type": "code",
   "execution_count": null,
   "id": "882ecfef",
   "metadata": {},
   "outputs": [],
   "source": [
    "# query_pipeline = Pipeline()\n",
    "# query_pipeline.add_component(\"text_embedder\", SentenceTransformersTextEmbedder(model_name_or_path=\"thenlper/gte-large\", device=\"cuda:0\"))\n",
    "# query_pipeline.add_component(\"retriever\", ElasticsearchEmbeddingRetriever(document_store=document_store_dfpds,top_k=3))\n",
    "# query_pipeline.connect(\"text_embedder.embedding\", \"retriever.query_embedding\")"
   ]
  },
  {
   "cell_type": "code",
   "execution_count": null,
   "id": "33324754",
   "metadata": {},
   "outputs": [],
   "source": [
    "# rag.draw(\"rag.png\")\n",
    "# Image(filename='rag.png')\n",
    "\n",
    "# def get_generative_answer(query):\n",
    "\n",
    "#   results = rag.run({\n",
    "#       \"text_embedder\": {\"text\": query},\n",
    "#       \"prompt_builder\": {\"query\": query}\n",
    "#     }\n",
    "#   )\n",
    "\n",
    "#   answer = results[\"llm\"][\"replies\"][0]\n",
    "#   rich.print(answer)\n",
    "  \n",
    "#   print(get_generative_answer(\"What is ARMY SCHEDULES OF POWERS? \"))"
   ]
  },
  {
   "cell_type": "code",
   "execution_count": null,
   "id": "64b509e7",
   "metadata": {},
   "outputs": [],
   "source": []
  },
  {
   "cell_type": "markdown",
   "id": "cad9a5da",
   "metadata": {},
   "source": [
    "## Function that get answer & relevant documents for it"
   ]
  },
  {
   "cell_type": "code",
   "execution_count": 12,
   "id": "48f833b2",
   "metadata": {},
   "outputs": [],
   "source": [
    "def get_answer_with_relevant_docs(query, rag_pipeline, query_pipeline):\n",
    "    # Use the query pipeline to retrieve relevant documents\n",
    "    relevant_docs = query_pipeline.run({\"text_embedder\": {\"text\": query}})['retriever']['documents']\n",
    "\n",
    "    # Extract relevant document IDs and page numbers\n",
    "    relevant_doc_info = [(doc.id,doc.meta.get(\"file_path\"), doc.meta.get(\"page_number\", \"N/A\"),doc.content) for doc in relevant_docs]\n",
    "    #relevant_doc_paths = [doc.meta.get(\"file_path\") for doc in relevant_docs]\n",
    "    # Use the RAG pipeline to generate an answer\n",
    "    results = rag_pipeline.run({\n",
    "        \"text_embedder\": {\"text\": query},\n",
    "        \"prompt_builder\": {\"query\": query}\n",
    "    })\n",
    "\n",
    "    # Extract the generated answer\n",
    "    answer = results[\"llm\"][\"replies\"][0]\n",
    "\n",
    "    return answer, relevant_doc_info"
   ]
  },
  {
   "cell_type": "markdown",
   "id": "49ce4de7",
   "metadata": {},
   "source": [
    "## Pipeline for RAG & document retrieval "
   ]
  },
  {
   "cell_type": "code",
   "execution_count": 13,
   "id": "36964dc1",
   "metadata": {},
   "outputs": [],
   "source": [
    "\n",
    "# Create RAG pipeline\n",
    "rag_pipeline2 = Pipeline()\n",
    "rag_pipeline2.add_component(\"text_embedder\", SentenceTransformersTextEmbedder(model_name_or_path=\"thenlper/gte-large\", device=\"cuda:0\"))\n",
    "rag_pipeline2.add_component(\"retriever\", ElasticsearchEmbeddingRetriever(document_store=document_store_dfpds, top_k=3))\n",
    "rag_pipeline2.add_component(\"prompt_builder\", prompt_builder)\n",
    "rag_pipeline2.add_component(\"llm\", generator)\n",
    "rag_pipeline2.connect(\"text_embedder\", \"retriever\")\n",
    "rag_pipeline2.connect(\"retriever.documents\", \"prompt_builder.documents\")\n",
    "rag_pipeline2.connect(\"prompt_builder.prompt\", \"llm.prompt\")\n",
    "\n",
    "# Create query pipeline\n",
    "query_pipelin2 = Pipeline()\n",
    "query_pipelin2.add_component(\"text_embedder\", SentenceTransformersTextEmbedder(model_name_or_path=\"thenlper/gte-large\", device=\"cuda:0\"))\n",
    "query_pipelin2.add_component(\"retriever\", ElasticsearchEmbeddingRetriever(document_store=document_store_dfpds, top_k=3))\n",
    "query_pipelin2.connect(\"text_embedder.embedding\", \"retriever.query_embedding\")\n",
    "\n"
   ]
  },
  {
   "cell_type": "code",
   "execution_count": 23,
   "id": "b690c4f5",
   "metadata": {},
   "outputs": [
    {
     "data": {
      "image/png": "[encoded data removed]",
      "text/plain": [
       "<IPython.core.display.Image object>"
      ]
     },
     "execution_count": 23,
     "metadata": {},
     "output_type": "execute_result"
    }
   ],
   "source": [
    "rag_pipeline2.draw(\"rag_pipeline2.png\")\n",
    "Image(filename='rag_pipeline2.png')"
   ]
  },
  {
   "cell_type": "code",
   "execution_count": 24,
   "id": "7bfcdd72",
   "metadata": {},
   "outputs": [
    {
     "data": {
      "image/png": "[encoded data removed]",
      "text/plain": [
       "<IPython.core.display.Image object>"
      ]
     },
     "execution_count": 24,
     "metadata": {},
     "output_type": "execute_result"
    }
   ],
   "source": [
    "query_pipelin2.draw(\"query_pipelin2.png\")\n",
    "Image(filename='query_pipelin2.png')"
   ]
  },
  {
   "cell_type": "markdown",
   "id": "45dadd00",
   "metadata": {},
   "source": [
    "## Example Usage"
   ]
  },
  {
   "cell_type": "code",
   "execution_count": 15,
   "id": "a1c6e7cf",
   "metadata": {},
   "outputs": [
    {
     "name": "stderr",
     "output_type": "stream",
     "text": [
      "Batches: 100%|██████████| 1/1 [00:00<00:00, 47.20it/s]\n",
      "Batches: 100%|██████████| 1/1 [00:00<00:00, 54.09it/s]\n",
      "Setting `pad_token_id` to `eos_token_id`:2 for open-end generation.\n"
     ]
    },
    {
     "name": "stdout",
     "output_type": "stream",
     "text": [
      "Answer:\n"
     ]
    },
    {
     "data": {
      "text/html": [
       "<pre style=\"white-space:pre;overflow-x:auto;line-height:normal;font-family:Menlo,'DejaVu Sans Mono',consolas,'Courier New',monospace\">\n",
       "\n",
       "The Air Force Schedules of Powers <span style=\"color: #008080; text-decoration-color: #008080; font-weight: bold\">2021</span> <span style=\"font-weight: bold\">(</span>AFSP-<span style=\"color: #008080; text-decoration-color: #008080; font-weight: bold\">2021</span><span style=\"font-weight: bold\">)</span> is a document that outlines the financial powers delegated to \n",
       "the Air Force for various activities. It is based on the Defence Financial Powers Delegation Schedule <span style=\"font-weight: bold\">(</span>DFPDS<span style=\"font-weight: bold\">)</span> <span style=\"color: #008080; text-decoration-color: #008080; font-weight: bold\">2016</span> \n",
       "and categorizes the powers into various schedules, which are further divided into sub-schedules. The procurement \n",
       "powers are defined as the authority to acquire all types of items, goods, equipment, stores, spares, tools, \n",
       "calibration equipment, technical literature/documentation, software, etc., as well as all types of services, \n",
       "including repair, modifications, transportation, insurance, advertisement, registration, training, recruitment, \n",
       "delivery, special services, leasing, technical assessment, consultancy, systems study, software development, \n",
       "maintenance <span style=\"font-weight: bold\">(</span>AMC<span style=\"font-weight: bold\">)</span>, LRC, STA, updates, life extension, refurbishment, fabrication, stores for development of product\n",
       "improvement, packing, unpacking, preservation, service contracts hiring, etc., related to particular cases of \n",
       "procurement. The AFSP-<span style=\"color: #008080; text-decoration-color: #008080; font-weight: bold\">2021</span> also includes provisions for annual maintenance contracts <span style=\"font-weight: bold\">(</span>AMC<span style=\"font-weight: bold\">)</span> of communication \n",
       "networks/equipment, including hardware, software, and professional services.\n",
       "</pre>\n"
      ],
      "text/plain": [
       "\n",
       "\n",
       "The Air Force Schedules of Powers \u001b[1;36m2021\u001b[0m \u001b[1m(\u001b[0mAFSP-\u001b[1;36m2021\u001b[0m\u001b[1m)\u001b[0m is a document that outlines the financial powers delegated to \n",
       "the Air Force for various activities. It is based on the Defence Financial Powers Delegation Schedule \u001b[1m(\u001b[0mDFPDS\u001b[1m)\u001b[0m \u001b[1;36m2016\u001b[0m \n",
       "and categorizes the powers into various schedules, which are further divided into sub-schedules. The procurement \n",
       "powers are defined as the authority to acquire all types of items, goods, equipment, stores, spares, tools, \n",
       "calibration equipment, technical literature/documentation, software, etc., as well as all types of services, \n",
       "including repair, modifications, transportation, insurance, advertisement, registration, training, recruitment, \n",
       "delivery, special services, leasing, technical assessment, consultancy, systems study, software development, \n",
       "maintenance \u001b[1m(\u001b[0mAMC\u001b[1m)\u001b[0m, LRC, STA, updates, life extension, refurbishment, fabrication, stores for development of product\n",
       "improvement, packing, unpacking, preservation, service contracts hiring, etc., related to particular cases of \n",
       "procurement. The AFSP-\u001b[1;36m2021\u001b[0m also includes provisions for annual maintenance contracts \u001b[1m(\u001b[0mAMC\u001b[1m)\u001b[0m of communication \n",
       "networks/equipment, including hardware, software, and professional services.\n"
      ]
     },
     "metadata": {},
     "output_type": "display_data"
    },
    {
     "name": "stdout",
     "output_type": "stream",
     "text": [
      "Relevant Documents:\n",
      "Document ID: d97de07282f47e3a50309d12ff997afaefa7f2573e87828a6d962fa29d3c2c67\t,Document Path: data2/DFPDS21.pdf\t, Page Number: N/A\n",
      "-------------------------------------------------------------------------------\n",
      "Document Content:\n",
      "Powers-2021 (NSP-2021)iii. Air Force Schedules of Powers-2021 (AFSP-2021)iv. IDS Schedules of Powers-2021 (ISP-2021)\n",
      "3. Keeping in view the Government’s eco-friendly initiative, a soft copy of this MoD Order is attached for easy distribution to CFAs, PIFAs/IFAs, PCsDA/ CsDA, field formations etc.\n",
      "4. Clarifications or interpretation of provisions contained in this Government Order will be regulated as per para 12 of Guidelines related to Schedules of Financial Powers.\n",
      "5. This issues with the approval of Hon’ble Raksha Mantri.\n",
      "Ambarish Barman\n",
      "Director\n",
      "Distribution:\n",
      "O/o Raksha Mantri O/o Raksha Rajya Mantri CDS COAS CNS CASSecretary (DMA)/ Defence Secretary/ Secretary (DP)/ Secretary (R&D)/ Secretary (Defence Finance)/ Secretary (ESW)\n",
      "CGDA DGADSVCoAS VCNS VCAS CISC All Additional Secretaries in MoDAll Joint Secretaries/ Addl FAs/ FMs Principal Advisor (Cost)\n",
      "NIC cell, MoD - for hosting on MoD website2Guidelines related to Schedules of Financial Powers\n",
      "1. The conceptual framework for Defence Schedules of Powers -2021 has been based on DFPDS 2016. The powers are categorized into various Schedules, which are in turn divided into different sub Schedules. A sub-Schedule is the basic unit for exercise of delegated powers, which determines the CFA for a particular case.\n",
      "2. Structure of Schedules - The Schedules have been restructured to facilitate linkages of expenditure with objectives and are in line with the budgetary minor/sub-heads as appearing in the Classification Handbook issued by CGDA. The Schedules of financial powers are arranged Minor Head-wise/ Sub head-wise, as per the classification in the Defence Services Estimates, for ease of correlation between the budget provision for various purposes and the sanction/ booking of expenditure under the appropriate heads of account.\n",
      "3. Procurement powers\n",
      "3.1 The term ‘procurement’ will cover all categories of procurement i.e. acquiring all types of items, goods (both scaled and non-scaled/NIV), equipment, stores, spares, tools, calibration equipment, technical literature/ documentation, software etc, as well as all types of services, including repair, modifications, transportation, insurance, advertisement, registration, training, recruitment, delivery, special services, leasing, technical assessment, consultancy, systems study, software development, maintenance(AMC),LRC,STA, updates, life extension, refurbishment, fabrication, stores for development of product improvement, packing, unpacking, preservation, service contracts hiring, etc related to particular case of procurement. The procurement powers given for an item or group of items in a particular schedule will cover all such activities pertaining to that item or group of items, unless specified otherwise in a particular sub-schedule. It covers one-off cases of procurement or recurring contract/ annual contract/ long-term procurement cases, depending upon the requirement of the organization and nature of case.\n",
      "3.2 The \n",
      "========================== End oF Document=====================================\n",
      "\n",
      "Document ID: cc07b8d1ac54a850a86d19d91b19f889d8976af420a8f8fec91d8da579cae23b\t,Document Path: data2/DFPDS21.pdf\t, Page Number: N/A\n",
      "-------------------------------------------------------------------------------\n",
      "Document Content:\n",
      "MINISTRY OF DEFENCE\n",
      "DELEGATION OF FINANCIAL POWERS TO DEFENCE SERVICES- 2021\n",
      "DFPDS- 2021iiiINDEX\n",
      "Sl. No. CONTENT Page No.\n",
      "1 Government letter No 231(7)/2020/DFPDS/Budget-II Dated 07.09.2021 1\n",
      "2 Guidelines related to Schedules of Financial Powers 2-5\n",
      "3ASP-2021\n",
      "Army Schedules of Powers 20217-48\n",
      "4NSP-2021\n",
      "Navy Schedules of Powers 202149-106\n",
      "5AFSP-2021\n",
      "Air Force Schedules of Powers 2021107-140\n",
      "6ISP-2021IDS Schedules of Powers 2021141-187vINDEX (Schedule-Wise)\n",
      "SCHEDULE No. Page No.\n",
      "ARMY SCHEDULES OF POWERS 2021 7-48\n",
      "Schedule 1 – Transportation 9\n",
      "Schedule 2 – ASC Stores 11\n",
      "Schedule 3 – Animals 13\n",
      "Schedule 4 – A.O.C. Stores 14\n",
      "Schedule 5 – Veterinary Medical Stores 17\n",
      "Schedule 6 – Engineer Stores 18\n",
      "Schedule 7 – Airframes & Engines and Aviation Stores 19\n",
      "Schedule 8 – Information Technology 20\n",
      "Schedule 9 – Indigenisation and Research & Development 22\n",
      "Schedule 10 – Disaster Relief Bricks 24\n",
      "Schedule 11 – Security Systems 25\n",
      "Schedule 12 – Works 26\n",
      "Schedule 13 – Rashtriya Rifles 27\n",
      "Schedule 14 – Miscellaneous and Contingent Expenditure 29\n",
      "Schedule 15 – Sports and Adventure 32\n",
      "Schedule 16 – Tele-Communication 33\n",
      "Schedule 17 – Aero Space Safety 35\n",
      "Schedule 18 – Outsourcing 36\n",
      "Schedule 19 – Training 37\n",
      "Schedule 20 – Army Cdrs’ Special Financial Powers (ACSFP) 39\n",
      "Schedule 21 – Emergency Powers 41\n",
      "Schedule 22 – Non-Procurement Financial Powers 42\n",
      "Schedule 23 – UN Procurement Powers 47\n",
      "Schedule 24– Ex-Servicemen Contributory Health Scheme (ECHS) 48\n",
      "NAVY SCHEDULES OF POWERS 2021 49-106\n",
      "Schedule 1 – Transportation 51\n",
      "Schedule 2 – Repairs And Refits 53\n",
      "Schedule 3 – Repairs And Refits (Aircrafts) 57\n",
      "Schedule 4 – Miscellaneous Repairs 59viSchedule 5 – Naval Stores And Spares 61\n",
      "Schedule 6 – Victual Stores 63\n",
      "Schedule 7 – Armament Stores 65\n",
      "Schedule 8 – Clothing Stores 67\n",
      "Schedule 9 – MT/ Specialist Vehicles and Stores 69\n",
      "Schedule 10 – Weapon Stores 71\n",
      "Schedule 11 – Aviation Stores 73\n",
      "Schedule 12 – IT Equipment And Services 75\n",
      "Schedule 13 – Indigenisation And Research & Development 77\n",
      "Schedule 14 – Security Systems 80\n",
      "Schedule 15 – Disaster Management Bricks 81\n",
      "Schedule 16 – Maintenance Dredging 82\n",
      "Schedule 17 – Miscellaneous and Contingent Expenditure 83\n",
      "Schedule 18 – Outsourcing 85\n",
      "Schedule 19 – Training 86\n",
      "Schedule 20 – Visit of Foreign Ships 89\n",
      "Schedule 21 – Sports And Adventure 90\n",
      "Schedule 22 – Aero Space Safety 91\n",
      "Schedule 23 – Tele-Communication 92\n",
      "Schedule 24 – Works 93\n",
      "Schedule 25 – Emergency Powers 94\n",
      "Schedule 26 – Navy Cdrs’ Special Financial Powers 95\n",
      "Schedule 27 – Non-Procurement Powers 97\n",
      "AIR FORCE SCHEDULES OF POWERS 2021 107-140\n",
      "Schedule 1 – Transportation 109\n",
      "Schedule 2 – Airframe & Aeroengine 110\n",
      "Schedule 3 – Aviation Stores and Met Stores 112\n",
      "Schedule 4 – MT/ Specialist Vehicles and Stores 114\n",
      "Schedule 5 – Provisions and Coal, Firewood & LPG 115\n",
      "Schedule 6 – POL 116\n",
      "Schedule 7 – Ordnance Stores 117\n",
      "Schedule 8 \n",
      "========================== End oF Document=====================================\n",
      "\n",
      "Document ID: c43dfcfb5255d0fed337c39a659e39a02ae9e7d3b4701f99e83ca42f03e51cf9\t,Document Path: data2/DFPDS21.pdf\t, Page Number: N/A\n",
      "-------------------------------------------------------------------------------\n",
      "Document Content:\n",
      "also be hired. 3. Annual Maintenance Contracts (AMC) of communication networks/ eqpt including hardware, software and professional services. 4. SATCOM and any other related satellite- communication items/ services.129AFSP 2021 SCHEDULE - 18\n",
      "TRAINING\n",
      "MAJOR HEAD 2078, MINOR HEAD-800 (G, H, L & O) (₹ in Lakh)\n",
      "Sub-\n",
      "SchCompetent Financial Authority Without IFA ConsultationWith IFA Consultation\n",
      "18.1 ATG items\n",
      "VCAS - 5000\n",
      "PSOs at Air HQ/ AOC-in–C 2 1000\n",
      "DG Air (Ops)/ SASO/ SAASO/ Comdt AFA/ ACAS (Trg)2 100\n",
      "AOC/ Comdt Self Accounting Units/ Stn Cdr/ CO - (Air Cmde & above)1 10\n",
      "Comdt/ Stn Cdr/ CO/ OC of self-accounting units/ Camp Commandant of Air HQ- (Gp Capt & below)0.6 5\n",
      "18.2 ETG items\n",
      "VCAS - 2500\n",
      "ACAS (Edn)/ PSOs at Command HQ 2 500\n",
      "AOC/ Comdt/ Stn Cdr/ CO self-accounting Units- (Air Cmde & above)2.4 50\n",
      "Comdt/ Stn Cdr/ CO/ OC of self-accounting units- (Gp Capt & below)1.2 25\n",
      "Note- No CLPC procedure will be followed for procurement of books. Discount for institutional purchases will be availed for all procurements of books.\n",
      "18.3 Participation of Air Force personnel/ Civil employees of IAF in Short-term Training courses, Seminars, Symposia, Workshops, Annual Conventions at civil/ defence/ professional/ academic organizations and institutions in India)\n",
      "PSOs at Air HQ/ AOC-in-C 1 Full Powers\n",
      "DG Air (Ops)/ ACAS (Trg)/ ACAS (P&C)/ SOA/ SAASO(MC)/ 0.4 20\n",
      "AOC/ Comdt/ Stn Cdr/ CO self-accounting Units- (Air Cmde & above)0.4 10\n",
      "Comdt/ Stn Cdr/ CO/ OC of self-accounting units (Gp Capt & below)0.25 1013018.4 Organization of Seminar/ Workshop/ Conference/ Training course in India VCAS/ AOC-in-C 0.5 Full Powers\n",
      "PSOs at Air HQ/ DG Air (Ops) 0.5 200\n",
      "PSOs at Command HQ/ ACAS Trg (for Organization of Seminar/ Workshop/ Conference/ Training course in India)0.25 100\n",
      "PSOs at Command HQ/ ACAS Org (for hospitality requriements)0.25 100\n",
      "AOC/ Comdt/ Stn Cdr/ CO self-accounting Units- (Air Cmde & above)0.2 20\n",
      "Comdt/ Stn Cdr/CO/ OC of self-accounting Units- (Gp Capt & below)0.2 5\n",
      "Note-\n",
      "1. Powers to sanction expenditure for inviting Govt faculty/ outside Guest speakers/ experts for training courses will be as per DoPT rules/ extant Government orders.\n",
      "2. TA/DA for Govt faculty/ outside Guest speakers/ experts will be done as per DoPT rules/ extant Government orders.\n",
      "3. Includes procurement of training material for regular training and payment to guest faculty for travel/ lecture/ honorarium as per the extant Government orders.\n",
      "4. Includes power to sanction expenditure towards Travel Fare, TA/DA and Honorarium to Non-Official/ Civilian members of University Committees/ Evaluation teams for visits to IAF Establishments for validation/ re-validation of Accreditation/ Affiliation of courses as per extant Government orders.131AFSP 2021 SCHEDULE – 19\n",
      "SPORTS \n",
      "========================== End oF Document=====================================\n",
      "\n"
     ]
    }
   ],
   "source": [
    "query = \"What you know about Air Force Schedules of Powers 2021?\"\n",
    "answer, relevant_doc_info = get_answer_with_relevant_docs(query, rag_pipeline2, query_pipelin2)\n",
    "\n",
    "# Print the answer\n",
    "print('Answer:')\n",
    "rich.print(answer)\n",
    "\n",
    "# Print relevant documents with page numbers\n",
    "print('Relevant Documents:')\n",
    "for doc_id, doc_path,page_number,doc_content in relevant_doc_info:\n",
    "    print(f\"Document ID: {doc_id}\\t,Document Path: {doc_path}\\t, Page Number: {page_number}\")\n",
    "    print(\"-------------------------------------------------------------------------------\")\n",
    "    print(f\"Document Content:\\n{doc_content}\")\n",
    "    print(\"========================== End oF Document=====================================\\n\")"
   ]
  },
  {
   "cell_type": "code",
   "execution_count": null,
   "id": "2b53d677",
   "metadata": {},
   "outputs": [],
   "source": []
  },
  {
   "cell_type": "code",
   "execution_count": null,
   "id": "63a2c83a",
   "metadata": {},
   "outputs": [],
   "source": []
  }
 ],
 "metadata": {
  "kernelspec": {
   "display_name": "Python 3 (ipykernel)",
   "language": "python",
   "name": "python3"
  },
  "language_info": {
   "codemirror_mode": {
    "name": "ipython",
    "version": 3
   },
   "file_extension": ".py",
   "mimetype": "text/x-python",
   "name": "python",
   "nbconvert_exporter": "python",
   "pygments_lexer": "ipython3",
   "version": "3.11.5"
  }
 },
 "nbformat": 4,
 "nbformat_minor": 5
}
